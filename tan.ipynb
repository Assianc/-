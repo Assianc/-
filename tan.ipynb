{
 "cells": [
  {
   "cell_type": "code",
   "execution_count": null,
   "id": "initial_id",
   "metadata": {
    "collapsed": true
   },
   "source": [
    "import heapq\n",
    "\n",
    "import networkx as nx\n",
    "import numpy as np\n",
    "import pandas as pd\n",
    "import requests\n",
    "from matplotlib import rcParams, pyplot as plt\n",
    "from sklearn.metrics import accuracy_score, precision_score, recall_score, f1_score, confusion_matrix, mutual_info_score\n",
    "from sklearn.model_selection import train_test_split\n",
    "from tqdm import tqdm\n",
    "import naiveBayes as nb"
   ],
   "outputs": []
  },
  {
   "metadata": {},
   "cell_type": "code",
   "execution_count": null,
   "source": [
    "def compute_mutual_information(X):\n",
    "    n_features = X.shape[1]  # 特征数量\n",
    "    print(n_features)\n",
    "    mi_matrix = np.zeros((n_features, n_features))\n",
    "\n",
    "    # 计算每对特征之间的互信息\n",
    "    with tqdm(total=n_features * (n_features - 1) // 2, desc=\"计算互信息\") as pbar:\n",
    "        for i in range(n_features):\n",
    "            for j in range(i + 1, n_features):\n",
    "                mi_matrix[i, j] = mutual_info_score(X[:, i], X[:, j])\n",
    "                pbar.update(1)\n",
    "\n",
    "    np.fill_diagonal(mi_matrix, [mutual_info_score(X[:, i], X[:, i]) for i in range(n_features)])\n",
    "    mi_matrix = mi_matrix + mi_matrix.T\n",
    "\n",
    "    return mi_matrix"
   ],
   "id": "cb896382ecb63271",
   "outputs": []
  },
  {
   "metadata": {},
   "cell_type": "code",
   "execution_count": null,
   "source": [
    "def prim_algorithm(mi_matrix):\n",
    "    n_features = mi_matrix.shape[0]\n",
    "    selected_nodes = {0}  # 使用集合来存储已选择的节点\n",
    "    edges = []\n",
    "\n",
    "    # 初始化候选边集合，过滤掉权重为0的边\n",
    "    candidate_edges = [(0, j, mi_matrix[0, j]) for j in range(1, n_features) if mi_matrix[0, j] > 0]\n",
    "\n",
    "    # 进度条\n",
    "    with tqdm(total=n_features - 1, desc=\"构建树\") as pbar:\n",
    "        while len(selected_nodes) < n_features:\n",
    "            # 找到权重最大的边\n",
    "            new_edge = max(candidate_edges, key=lambda x: x[2])\n",
    "            candidate_edges.remove(new_edge)\n",
    "            edges.append((new_edge[0], new_edge[1]))\n",
    "            selected_nodes.add(new_edge[1])\n",
    "\n",
    "            # 更新候选边集合\n",
    "            for j in range(n_features):\n",
    "                if j not in selected_nodes and mi_matrix[new_edge[1], j] > 0:\n",
    "                    candidate_edges.append((new_edge[1], j, mi_matrix[new_edge[1], j]))\n",
    "\n",
    "            pbar.update(1)\n",
    "    \n",
    "    return edges"
   ],
   "id": "a83bb8935ce7d9d3",
   "outputs": []
  },
  {
   "metadata": {},
   "cell_type": "code",
   "execution_count": null,
   "source": [
    "class TAN:\n",
    "    def __init__(self, vocabList):\n",
    "        self.class_prior = {}  # 存储类的先验概率\n",
    "        self.feature_probs = {}  # 存储特征的条件概率\n",
    "        self.edges = []  # 存储树的边\n",
    "        self.vocabList = vocabList\n",
    "\n",
    "    def fit(self, X, y):\n",
    "        n_samples, n_features = X.shape  # 获取样本数和特征数\n",
    "        self.classes, counts = np.unique(y, return_counts=True)  # 获取类标签及其计数\n",
    "        self.class_prior = dict(zip(self.classes, counts / n_samples))  # 计算先验概率\n",
    "\n",
    "        mi_matrix = compute_mutual_information(X)  # 计算互信息矩阵\n",
    "        self.edges = prim_algorithm(mi_matrix)  # 构建最大权重生成树\n",
    "\n",
    "        self.feature_probs = {c: [{} for _ in range(n_features)] for c in self.classes}  # 初始化条件概率\n",
    "        for c in tqdm(self.classes, desc=\"计算条件概率\"):\n",
    "            X_c = X[y == c]  # 获取属于类c的样本\n",
    "            X_c_df = pd.DataFrame(X_c)\n",
    "            for i in range(n_features):\n",
    "                parent = next((edge[0] for edge in self.edges if edge[1] == i), None)  # 找到特征i的父节点\n",
    "                if parent is None:\n",
    "                    probs = X_c_df[i].value_counts(normalize=True).to_dict()  # 计算P(X_i|C)\n",
    "                else:\n",
    "                    probs = X_c_df.groupby(parent)[i].value_counts(normalize=True).to_dict()  # 计算P(X_i|X_parent, C)\n",
    "                self.feature_probs[c][i] = probs\n",
    "\n",
    "    def predict(self, X):\n",
    "        n_samples, n_features = X.shape\n",
    "        log_prob = np.zeros((n_samples, len(self.classes)))\n",
    "\n",
    "        for i, c in enumerate(self.classes):\n",
    "            log_prob[:, i] += np.log(self.class_prior[c])  # 加上类的先验概率\n",
    "            for j in range(n_features):\n",
    "                parent = next((edge[0] for edge in self.edges if edge[1] == j), None)  # 找到特征j的父节点\n",
    "                if parent is None:\n",
    "                    probs = np.array([self.feature_probs[c][j].get(x, 1e-6) for x in X[:, j]])  # 计算P(X_j|C)\n",
    "                else:\n",
    "                    probs = np.array([self.feature_probs[c][j].get((X[k, parent], X[k, j]), 1e-6) for k in\n",
    "                                      range(n_samples)])  # 计算P(X_j|X_parent, C)\n",
    "                log_prob[:, i] += np.log(probs)\n",
    "\n",
    "        return self.classes[np.argmax(log_prob, axis=1)]  # 返回概率最大的类"
   ],
   "id": "d750bde512543637",
   "outputs": []
  },
  {
   "metadata": {},
   "cell_type": "code",
   "execution_count": null,
   "source": [
    "# 加载数据集\n",
    "docs, label = nb.loadDataSet()\n",
    "\n",
    "# 确定子集\n",
    "sample_size = min(500, len(label))  # 设置样本子集的大小\n",
    "subset_indices = np.random.choice(len(label), sample_size, replace=False)\n",
    "docs = [docs[i] for i in subset_indices]\n",
    "label = [label[i] for i in subset_indices]"
   ],
   "id": "feb30b7185bf2106",
   "outputs": []
  },
  {
   "metadata": {},
   "cell_type": "code",
   "execution_count": null,
   "source": [
    "# 创建词汇表\n",
    "vocabList = nb.createVocabList(docs)\n",
    "\n",
    "# 构建词向量矩阵\n",
    "trainMat = []\n",
    "for inputSet in tqdm(docs, desc='构建词向量矩阵'):\n",
    "    trainMat.append(nb.setOfWords2Vec(vocabList, inputSet))"
   ],
   "id": "79daec6fddf6439b",
   "outputs": []
  },
  {
   "metadata": {},
   "cell_type": "code",
   "execution_count": null,
   "source": "X_train, X_test, y_train, y_test = train_test_split(trainMat, label, test_size=0.2, random_state=1)\n",
   "id": "a76b53951b4c1349",
   "outputs": []
  },
  {
   "metadata": {},
   "cell_type": "code",
   "execution_count": null,
   "source": [
    "# 训练模型\n",
    "model = TAN(vocabList)\n",
    "X_train = np.array(X_train)\n",
    "X_test = np.array(X_test)\n",
    "model.fit(X_train, y_train)"
   ],
   "id": "be7020e4dd0712f7",
   "outputs": []
  },
  {
   "metadata": {},
   "cell_type": "code",
   "execution_count": null,
   "source": [
    "# 预测\n",
    "y_pred = model.predict(X_test)\n",
    "accuracy = accuracy_score(y_test, y_pred)\n",
    "precision = precision_score(y_test, y_pred)\n",
    "recall = recall_score(y_test, y_pred)\n",
    "f1 = f1_score(y_test, y_pred)\n",
    "conf_matrix = confusion_matrix(y_test, y_pred)"
   ],
   "id": "1a8c4da17fd0067b",
   "outputs": []
  }
 ],
 "metadata": {
  "kernelspec": {
   "display_name": "Python 3",
   "language": "python",
   "name": "python3"
  },
  "language_info": {
   "codemirror_mode": {
    "name": "ipython",
    "version": 2
   },
   "file_extension": ".py",
   "mimetype": "text/x-python",
   "name": "python",
   "nbconvert_exporter": "python",
   "pygments_lexer": "ipython2",
   "version": "2.7.6"
  }
 },
 "nbformat": 4,
 "nbformat_minor": 5
}
