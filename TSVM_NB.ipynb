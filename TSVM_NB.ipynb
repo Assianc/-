{
 "cells": [
  {
   "cell_type": "code",
   "id": "initial_id",
   "metadata": {
    "collapsed": true,
    "ExecuteTime": {
     "end_time": "2024-06-08T10:40:11.037937Z",
     "start_time": "2024-06-08T10:40:06.688752Z"
    }
   },
   "source": [
    "from sklearn.naive_bayes import MultinomialNB\n",
    "from sklearn.svm import SVC\n",
    "\n",
    "from naiveBayes import *\n",
    "import numpy as np\n",
    "import matplotlib.pyplot as plt\n",
    "from sklearn.metrics import roc_curve, roc_auc_score\n",
    "from sklearn.model_selection import train_test_split\n",
    "import naiveBayesv1 as v1"
   ],
   "execution_count": 1,
   "outputs": []
  },
  {
   "metadata": {
    "ExecuteTime": {
     "end_time": "2024-06-08T10:40:11.054630Z",
     "start_time": "2024-06-08T10:40:11.040253Z"
    }
   },
   "cell_type": "code",
   "source": [
    "class LinearSVM:\n",
    "    def __init__(self, learning_rate=0.001, lambda_param=0.01, n_iters=1000):\n",
    "        self.lr = learning_rate\n",
    "        self.lambda_param = lambda_param\n",
    "        self.n_iters = n_iters\n",
    "        self.w = None\n",
    "        self.b = None\n",
    "\n",
    "    def fit(self, X, y):\n",
    "        n_samples, n_features = X.shape\n",
    "        self.w = np.zeros(n_features)\n",
    "        self.b = 0\n",
    "\n",
    "        for _ in tqdm(range(self.n_iters), desc='训练SVM'):\n",
    "            for idx, x_i in enumerate(X):\n",
    "                condition = y[idx] * (np.dot(x_i, self.w) - self.b) >= 1\n",
    "                if condition:\n",
    "                    self.w -= self.lr * (2 * self.lambda_param * self.w)\n",
    "                else:\n",
    "                    self.w -= self.lr * (2 * self.lambda_param * self.w - np.dot(x_i, y[idx]))\n",
    "                    self.b -= self.lr * y[idx]\n",
    "\n",
    "    def predict(self, X):\n",
    "        return np.sign(np.dot(X, self.w) - self.b)\n",
    "\n",
    "    def decision_function(self, X):\n",
    "        return np.dot(X, self.w) - self.b"
   ],
   "id": "5701a1cbfb138997",
   "execution_count": 2,
   "outputs": []
  },
  {
   "metadata": {
    "ExecuteTime": {
     "end_time": "2024-06-08T10:40:14.894206Z",
     "start_time": "2024-06-08T10:40:14.886155Z"
    }
   },
   "cell_type": "code",
   "source": [
    "def euclidean_distance(x1, x2):\n",
    "    return np.sqrt(np.sum((x1 - x2) ** 2))"
   ],
   "id": "4fadd8a15408bf00",
   "execution_count": 3,
   "outputs": []
  },
  {
   "metadata": {
    "ExecuteTime": {
     "end_time": "2024-06-08T10:40:16.194430Z",
     "start_time": "2024-06-08T10:40:16.179411Z"
    }
   },
   "cell_type": "code",
   "source": [
    "def tsvm_nb_algorithm(X, y):\n",
    "    # 初始化距离矩阵\n",
    "    n_samples = len(X)\n",
    "    distance_matrix = np.full((n_samples, n_samples), np.inf)\n",
    "\n",
    "    for i in tqdm(range(n_samples), desc='计算距离矩阵'):\n",
    "        for j in range(n_samples):\n",
    "            if i != j:\n",
    "                distance_matrix[i, j] = euclidean_distance(X[i], X[j])\n",
    "\n",
    "    # 初始化每个点的最近邻和最短距离\n",
    "    nearest_neighbors = np.zeros(n_samples, dtype=int)\n",
    "    min_distances = np.full(n_samples, np.inf)\n",
    "\n",
    "    for i in tqdm(range(n_samples), desc='选择最近邻'):\n",
    "        for j in range(n_samples):\n",
    "            if distance_matrix[i, j] < min_distances[i]:\n",
    "                min_distances[i] = distance_matrix[i, j]\n",
    "                nearest_neighbors[i] = j\n",
    "\n",
    "    # 初始化标志矩阵\n",
    "    flags = np.ones(n_samples)\n",
    "\n",
    "    for i in tqdm(range(n_samples), desc='计算标志矩阵'):\n",
    "        neighbor_idx = nearest_neighbors[i]\n",
    "        if y[i] != y[neighbor_idx]:\n",
    "            flags[i] = -1\n",
    "        else:\n",
    "            flags[i] = 1\n",
    "\n",
    "    # 修剪样本集\n",
    "    for i in tqdm(range(n_samples), desc='修剪样本集'):\n",
    "        neighbor_idx = nearest_neighbors[i]\n",
    "        if flags[i] == -1:\n",
    "            # 选择删除点，优先删除距离较远的点\n",
    "            if min_distances[i] < min_distances[neighbor_idx]:\n",
    "                X = np.delete(X, i, axis=0)\n",
    "                y = np.delete(y, i, axis=0)\n",
    "            else:\n",
    "                X = np.delete(X, neighbor_idx, axis=0)\n",
    "                y = np.delete(y, neighbor_idx, axis=0)\n",
    "\n",
    "    # 再次用NB算法训练\n",
    "    nb = NaiveBayes()\n",
    "    nb.fit(X, y)\n",
    "\n",
    "    return nb"
   ],
   "id": "2274a9fdd80b52bc",
   "execution_count": 4,
   "outputs": []
  },
  {
   "metadata": {
    "ExecuteTime": {
     "end_time": "2024-06-08T10:56:36.755912Z",
     "start_time": "2024-06-08T10:40:17.055840Z"
    }
   },
   "cell_type": "code",
   "source": [
    "# 加载数据集\n",
    "docs, label = loadDataSet()\n",
    "# 创建词汇表\n",
    "vocabList = createVocabList(docs)\n",
    "\n",
    "# 构建词向量矩阵\n",
    "tfidf = TFIDF(docs, vocabList)\n",
    "trainMat = tfidf.calc_tfidf()\n",
    "\n",
    "trainMat = np.array(trainMat)\n",
    "label = np.array(label)\n",
    "X_train, X_test, y_train, y_test = train_test_split(trainMat, label, test_size=0.2, random_state=1)\n",
    "\n",
    "# 初始训练\n",
    "nb_initial = NaiveBayes()\n",
    "nb_initial.fit(X_train, y_train)\n",
    "initial_predictions = nb_initial.predict(X_train)\n",
    "\n",
    "# 构建最优分类超平面\n",
    "svm = LinearSVM()\n",
    "svm.fit(X_train, initial_predictions)\n",
    "\n",
    "distances = svm.decision_function(X_train)\n",
    "threshold = 0.2\n",
    "selected_samples = np.abs(distances) > threshold\n",
    "\n",
    "X_optimized = X_train[selected_samples]\n",
    "y_optimized = y_train[selected_samples]\n",
    "\n",
    "nb = tsvm_nb_algorithm(X_optimized, y_optimized)\n",
    "y_pred = nb.predict(X_test)\n",
    "y_probs = nb.predict_proba(X_test)[:, 1]  # 选择概率中的正类概率"
   ],
   "id": "2d2124369e978e9d",
   "execution_count": 5,
   "outputs": []
  },
  {
   "metadata": {},
   "cell_type": "code",
   "execution_count": null,
   "source": [
    "# ——————————————————————————————————————————————————————————————————————\n",
    "# SVM\n",
    "docs, label = v1.loadDataSet()\n",
    "\n",
    "vocabList = v1.createVocabList(docs)\n",
    "\n",
    "trainMat = []\n",
    "for postinDoc in tqdm(docs):\n",
    "    trainMat.append(setOfWords2Vec(vocabList, postinDoc))\n",
    "\n",
    "X_train_o, X_test_o, y_train_o, y_test_o = train_test_split(trainMat, label, test_size=0.2, random_state=1)"
   ],
   "id": "442454fbe0c56435",
   "outputs": []
  },
  {
   "metadata": {
    "ExecuteTime": {
     "end_time": "2024-06-08T10:58:46.812090Z",
     "start_time": "2024-06-08T10:58:39.551030Z"
    }
   },
   "cell_type": "code",
   "source": [
    "# 训练SVM模型\n",
    "svm = SVC(kernel='linear',probability=True)\n",
    "svm.fit(X_train_o, y_train_o)\n",
    "\n",
    "svm_pred = svm.predict(X_test_o)\n",
    "svm_probs = svm.predict_proba(X_test_o)[:, 1] "
   ],
   "id": "d2e6c64d5c6a12d7",
   "execution_count": 8,
   "outputs": []
  },
  {
   "metadata": {
    "ExecuteTime": {
     "end_time": "2024-06-08T10:59:15.618890Z",
     "start_time": "2024-06-08T10:59:15.064509Z"
    }
   },
   "cell_type": "code",
   "source": [
    "# 朴素贝叶斯\n",
    "nbmodel = MultinomialNB()\n",
    "nbmodel.fit(X_train_o, y_train_o)\n",
    "\n",
    "nb_pred = nbmodel.predict(X_test_o)\n",
    "nb_probs = nbmodel.predict_proba(X_test_o)[:, 1] "
   ],
   "id": "60404487f13d6a8f",
   "execution_count": 10,
   "outputs": []
  },
  {
   "metadata": {
    "ExecuteTime": {
     "end_time": "2024-06-08T10:59:17.882479Z",
     "start_time": "2024-06-08T10:59:17.854083Z"
    }
   },
   "cell_type": "code",
   "source": [
    "# 计算每个模型的假阳性率、真阳性率和AUC\n",
    "fpr1, tpr1, _ = roc_curve(y_test, y_probs)\n",
    "roc_auc1 = roc_auc_score(y_test, y_probs)\n",
    "\n",
    "fpr2, tpr2, _ = roc_curve(y_test_o, svm_probs)\n",
    "roc_auc2 = roc_auc_score(y_test_o, svm_probs)\n",
    "\n",
    "fpr3, tpr3, _ = roc_curve(y_test_o, nb_probs)\n",
    "roc_auc3 = roc_auc_score(y_test_o, nb_probs)"
   ],
   "id": "2b532099fdd4a277",
   "execution_count": 11,
   "outputs": []
  },
  {
   "metadata": {
    "ExecuteTime": {
     "end_time": "2024-06-08T10:59:24.284575Z",
     "start_time": "2024-06-08T10:59:23.881737Z"
    }
   },
   "cell_type": "code",
   "source": [
    "# 绘制ROC曲线\n",
    "plt.figure()\n",
    "plt.plot(fpr1, tpr1, color='darkorange', lw=2, label='TSVM-NB (AUC = %0.2f)' % roc_auc1)\n",
    "plt.plot(fpr2, tpr2, color='green', lw=2, label='SVM (AUC = %0.2f)' % roc_auc2)\n",
    "plt.plot(fpr3, tpr3, color='blue', lw=2, label='NaiveBayes (AUC = %0.2f)' % roc_auc3)\n",
    "\n",
    "# 绘制对角线\n",
    "plt.plot([0, 1], [0, 1], color='navy', lw=2, linestyle='--')\n",
    "\n",
    "# 设置图形的范围、标签和标题\n",
    "plt.xlim([0.0, 1.0])\n",
    "plt.ylim([0.0, 1.05])\n",
    "plt.xlabel('False Positive Rate')\n",
    "plt.ylabel('True Positive Rate')\n",
    "plt.title('Receiver Operating Characteristic (ROC) Curve')\n",
    "plt.legend(loc=\"lower right\")\n",
    "\n",
    "# 显示图形\n",
    "plt.show()"
   ],
   "id": "a5638037a826f22",
   "execution_count": 12,
   "outputs": []
  },
  {
   "metadata": {
    "ExecuteTime": {
     "end_time": "2024-06-08T11:16:04.374327Z",
     "start_time": "2024-06-08T11:16:04.341874Z"
    }
   },
   "cell_type": "code",
   "source": [
    "from sklearn.metrics import matthews_corrcoef\n",
    "\n",
    "mcc = matthews_corrcoef(y_test, y_pred)\n",
    "mcc_svm=matthews_corrcoef(y_test_o,svm_pred)\n",
    "mcc_nb=matthews_corrcoef(y_test_o,nb_pred)\n",
    "print(mcc)\n",
    "print(mcc_svm)\n",
    "print(mcc_nb)"
   ],
   "id": "89a8aae0ec7f2969",
   "execution_count": 13,
   "outputs": []
  },
  {
   "metadata": {},
   "cell_type": "code",
   "execution_count": null,
   "source": "",
   "id": "9ad5a4fe0ba95fef",
   "outputs": []
  }
 ],
 "metadata": {
  "kernelspec": {
   "display_name": "Python 3",
   "language": "python",
   "name": "python3"
  },
  "language_info": {
   "codemirror_mode": {
    "name": "ipython",
    "version": 2
   },
   "file_extension": ".py",
   "mimetype": "text/x-python",
   "name": "python",
   "nbconvert_exporter": "python",
   "pygments_lexer": "ipython2",
   "version": "2.7.6"
  }
 },
 "nbformat": 4,
 "nbformat_minor": 5
}
